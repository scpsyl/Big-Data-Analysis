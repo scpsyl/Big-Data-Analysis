{
 "cells": [
  {
   "cell_type": "markdown",
   "metadata": {},
   "source": [
    "## 作业二"
   ]
  },
  {
   "cell_type": "markdown",
   "metadata": {},
   "source": [
    "### 数据预处理"
   ]
  },
  {
   "cell_type": "code",
   "execution_count": 7,
   "metadata": {},
   "outputs": [
    {
     "name": "stdout",
     "output_type": "stream",
     "text": [
      "   user_id  movie_id  rating   timestamp\n",
      "0   305344         1       1  2004-02-08\n",
      "1   305344         3       2  2003-03-23\n",
      "2   305344         4       1  2003-12-13\n",
      "3   305344         5       1  2004-12-15\n",
      "4   305344         6       1  2003-09-23\n",
      "Matrix for Train:\n",
      "         1     3     4     5     6     7     8     10    15    17    ...  \\\n",
      "305344      1     2     1     1     1     2     1     1     5     2  ...   \n",
      "387418      1     2     0     1     2     1     0     0     0     3  ...   \n",
      "2439493     0     0     1     0     1     0     1     1     0     1  ...   \n",
      "1664010     5     0     3     5     4     3     4     4     4     0  ...   \n",
      "2118461     5     4     3     5     4     3     0     3     0     3  ...   \n",
      "...       ...   ...   ...   ...   ...   ...   ...   ...   ...   ...  ...   \n",
      "1688557     0     0     0     0     0     0     0     0     0     0  ...   \n",
      "959444      0     0     0     0     0     0     0     0     0     0  ...   \n",
      "1581163     0     0     0     0     0     0     3     0     0     2  ...   \n",
      "2495459     0     0     0     0     0     0     0     0     0     0  ...   \n",
      "1932106     0     0     0     0     0     0     4     0     0     0  ...   \n",
      "\n",
      "         3234  7162  2349  8025  2618  5349  6952  7122  6539  1422  \n",
      "305344      0     0     0     0     0     0     0     0     0     0  \n",
      "387418      0     0     0     0     0     0     0     0     0     0  \n",
      "2439493     0     0     0     0     0     0     0     0     0     0  \n",
      "1664010     0     0     0     0     0     0     0     0     0     0  \n",
      "2118461     0     0     0     0     0     0     0     0     0     0  \n",
      "...       ...   ...   ...   ...   ...   ...   ...   ...   ...   ...  \n",
      "1688557     0     0     0     0     0     0     0     0     0     0  \n",
      "959444      0     0     0     0     0     0     0     0     0     0  \n",
      "1581163     0     0     0     0     0     0     0     0     0     0  \n",
      "2495459     0     0     0     0     0     0     0     0     0     0  \n",
      "1932106     0     0     0     0     0     0     0     0     0     0  \n",
      "\n",
      "[10000 rows x 10000 columns]\n"
     ]
    }
   ],
   "source": [
    "import pandas as pd\n",
    "import numpy as np\n",
    "\n",
    "file_path = 'data/netflix_train.txt'\n",
    "data_train = pd.read_csv(file_path, sep=r'\\s+', header=None, names=['user_id', 'movie_id', 'rating', 'timestamp'])\n",
    "print(data_train.head())\n",
    "\n",
    "users_train = data_train['user_id'].unique()\n",
    "movies_train = data_train['movie_id'].unique()\n",
    "\n",
    "X_train = pd.DataFrame(0, index=users_train, columns=movies_train)\n",
    "\n",
    "for row in data_train.itertuples():\n",
    "    X_train.at[row.user_id, row.movie_id] = row.rating\n",
    "\n",
    "print(\"Matrix for Train:\")\n",
    "print(X_train)\n",
    "\n",
    "# X.to_csv('user_movie_matrix.csv')\n",
    "# missing_mask.to_csv('missing_mask.csv')\n"
   ]
  },
  {
   "cell_type": "code",
   "execution_count": 10,
   "metadata": {},
   "outputs": [
    {
     "name": "stdout",
     "output_type": "stream",
     "text": [
      "   user_id  movie_id  rating   timestamp\n",
      "0  2123534      6134       4  2005-05-31\n",
      "1  2123534       677       1  2005-06-06\n",
      "2  2123534      3182       4  2005-06-06\n",
      "3  2123534      7882       4  2005-06-27\n",
      "4  2123534      6099       1  2005-05-31\n",
      "9983\n",
      "(10000, 9983)\n"
     ]
    }
   ],
   "source": [
    "file_path = 'data/netflix_test.txt'\n",
    "data_test = pd.read_csv(file_path, sep=r'\\s+', header=None, names=['user_id', 'movie_id', 'rating', 'timestamp'])\n",
    "print(data_test.head())\n",
    "\n",
    "users_test = data_test['user_id'].unique()\n",
    "movies_test = data_test['movie_id'].unique()\n",
    "print(len(data_test['movie_id'].unique()))\n",
    "X_test = pd.DataFrame(0, index=users_test, columns=movies_test)\n",
    "print(X_test.shape)\n",
    "# for row in data_test.itertuples():\n",
    "#     X_test.at[row.user_id, row.movie_id] = row.rating\n",
    "\n",
    "# print(\"Matrix for Test:\")\n",
    "# print(X_test)"
   ]
  },
  {
   "cell_type": "markdown",
   "metadata": {},
   "source": []
  }
 ],
 "metadata": {
  "kernelspec": {
   "display_name": "pytorch",
   "language": "python",
   "name": "python3"
  },
  "language_info": {
   "codemirror_mode": {
    "name": "ipython",
    "version": 3
   },
   "file_extension": ".py",
   "mimetype": "text/x-python",
   "name": "python",
   "nbconvert_exporter": "python",
   "pygments_lexer": "ipython3",
   "version": "3.12.5"
  }
 },
 "nbformat": 4,
 "nbformat_minor": 2
}
