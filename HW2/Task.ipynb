{
 "cells": [
  {
   "cell_type": "markdown",
   "metadata": {},
   "source": [
    "## 作业二"
   ]
  },
  {
   "cell_type": "markdown",
   "metadata": {},
   "source": [
    "### 数据预处理"
   ]
  },
  {
   "cell_type": "code",
   "execution_count": 7,
   "metadata": {},
   "outputs": [
    {
     "name": "stdout",
     "output_type": "stream",
     "text": [
      "   user_id  movie_id  rating   timestamp\n",
      "0   305344         1       1  2004-02-08\n",
      "1   305344         3       2  2003-03-23\n",
      "2   305344         4       1  2003-12-13\n",
      "3   305344         5       1  2004-12-15\n",
      "4   305344         6       1  2003-09-23\n",
      "Matrix for Train:\n",
      "         1     3     4     5     6     7     8     10    15    17    ...  \\\n",
      "305344      1     2     1     1     1     2     1     1     5     2  ...   \n",
      "387418      1     2     0     1     2     1     0     0     0     3  ...   \n",
      "2439493     0     0     1     0     1     0     1     1     0     1  ...   \n",
      "1664010     5     0     3     5     4     3     4     4     4     0  ...   \n",
      "2118461     5     4     3     5     4     3     0     3     0     3  ...   \n",
      "...       ...   ...   ...   ...   ...   ...   ...   ...   ...   ...  ...   \n",
      "1688557     0     0     0     0     0     0     0     0     0     0  ...   \n",
      "959444      0     0     0     0     0     0     0     0     0     0  ...   \n",
      "1581163     0     0     0     0     0     0     3     0     0     2  ...   \n",
      "2495459     0     0     0     0     0     0     0     0     0     0  ...   \n",
      "1932106     0     0     0     0     0     0     4     0     0     0  ...   \n",
      "\n",
      "         3234  7162  2349  8025  2618  5349  6952  7122  6539  1422  \n",
      "305344      0     0     0     0     0     0     0     0     0     0  \n",
      "387418      0     0     0     0     0     0     0     0     0     0  \n",
      "2439493     0     0     0     0     0     0     0     0     0     0  \n",
      "1664010     0     0     0     0     0     0     0     0     0     0  \n",
      "2118461     0     0     0     0     0     0     0     0     0     0  \n",
      "...       ...   ...   ...   ...   ...   ...   ...   ...   ...   ...  \n",
      "1688557     0     0     0     0     0     0     0     0     0     0  \n",
      "959444      0     0     0     0     0     0     0     0     0     0  \n",
      "1581163     0     0     0     0     0     0     0     0     0     0  \n",
      "2495459     0     0     0     0     0     0     0     0     0     0  \n",
      "1932106     0     0     0     0     0     0     0     0     0     0  \n",
      "\n",
      "[10000 rows x 10000 columns]\n"
     ]
    }
   ],
   "source": [
    "import pandas as pd\n",
    "import numpy as np\n",
    "\n",
    "file_path = 'data/netflix_train.txt'\n",
    "data_train = pd.read_csv(file_path, sep=r'\\s+', header=None, names=['user_id', 'movie_id', 'rating', 'timestamp'])\n",
    "print(data_train.head())\n",
    "\n",
    "users_train = data_train['user_id'].unique()\n",
    "movies_train = data_train['movie_id'].unique()\n",
    "\n",
    "X_train = pd.DataFrame(0, index=users_train, columns=movies_train)\n",
    "\n",
    "for row in data_train.itertuples():\n",
    "    X_train.at[row.user_id, row.movie_id] = row.rating\n",
    "\n",
    "print(\"Matrix for Train:\")\n",
    "print(X_train)\n",
    "\n",
    "# X.to_csv('user_movie_matrix.csv')\n",
    "# missing_mask.to_csv('missing_mask.csv')\n"
   ]
  },
  {
   "cell_type": "code",
   "execution_count": 12,
   "metadata": {},
   "outputs": [
    {
     "name": "stdout",
     "output_type": "stream",
     "text": [
      "   user_id  movie_id  rating   timestamp\n",
      "0  2123534      6134       4  2005-05-31\n",
      "1  2123534       677       1  2005-06-06\n",
      "2  2123534      3182       4  2005-06-06\n",
      "3  2123534      7882       4  2005-06-27\n",
      "4  2123534      6099       1  2005-05-31\n",
      "9983\n",
      "(10000, 9983)\n",
      "Matrix for Test:\n",
      "         6134  677   3182  7882  6099  1295  6336  8764  8872  4883  ...  \\\n",
      "2123534     4     1     4     4     1     1     1     4     3     2  ...   \n",
      "282427      0     0     0     0     0     3     4     0     0     0  ...   \n",
      "2065448     0     0     0     0     0     0     0     0     0     0  ...   \n",
      "1364974     0     0     0     0     0     0     0     0     0     0  ...   \n",
      "1035378     0     0     0     3     0     0     0     5     0     4  ...   \n",
      "...       ...   ...   ...   ...   ...   ...   ...   ...   ...   ...  ...   \n",
      "1018928     0     0     0     0     0     0     0     0     0     0  ...   \n",
      "1268171     0     0     0     0     2     0     0     0     0     2  ...   \n",
      "492291      0     0     0     0     0     0     0     0     0     0  ...   \n",
      "977606      0     0     0     0     5     0     0     0     0     0  ...   \n",
      "2480035     3     0     0     0     0     0     0     0     0     0  ...   \n",
      "\n",
      "         9632  3518  7122  222   950   6256  6217  8058  2336  3897  \n",
      "2123534     0     0     0     0     0     0     0     0     0     0  \n",
      "282427      0     0     0     0     0     0     0     0     0     0  \n",
      "2065448     0     0     0     0     0     0     0     0     0     0  \n",
      "1364974     0     0     0     0     0     0     0     0     0     0  \n",
      "1035378     0     0     0     0     0     0     0     0     0     0  \n",
      "...       ...   ...   ...   ...   ...   ...   ...   ...   ...   ...  \n",
      "1018928     0     0     0     0     0     0     0     0     0     0  \n",
      "1268171     0     0     0     0     0     0     0     0     0     0  \n",
      "492291      0     0     0     0     0     0     0     0     0     0  \n",
      "977606      0     0     0     0     0     0     0     0     0     0  \n",
      "2480035     0     0     0     0     0     0     0     0     0     0  \n",
      "\n",
      "[10000 rows x 9983 columns]\n"
     ]
    }
   ],
   "source": [
    "file_path = 'data/netflix_test.txt'\n",
    "data_test = pd.read_csv(file_path, sep=r'\\s+', header=None, names=['user_id', 'movie_id', 'rating', 'timestamp'])\n",
    "print(data_test.head())\n",
    "\n",
    "users_test = data_test['user_id'].unique()\n",
    "movies_test = data_test['movie_id'].unique()\n",
    "print(len(data_test['movie_id'].unique())) #9983\n",
    "\n",
    "X_test = pd.DataFrame(0, index=users_test, columns=movies_test)\n",
    "print(X_test.shape)\n",
    "for row in data_test.itertuples():\n",
    "    X_test.at[row.user_id, row.movie_id] = row.rating\n",
    "\n",
    "print(\"Matrix for Test:\")\n",
    "print(X_test)"
   ]
  },
  {
   "cell_type": "markdown",
   "metadata": {},
   "source": [
    "### 协同过滤"
   ]
  },
  {
   "cell_type": "markdown",
   "metadata": {},
   "source": []
  },
  {
   "cell_type": "code",
   "execution_count": 13,
   "metadata": {},
   "outputs": [
    {
     "name": "stdout",
     "output_type": "stream",
     "text": [
      "计算用户相似度耗时: 2.3220 秒\n"
     ]
    }
   ],
   "source": [
    "import pandas as pd\n",
    "import numpy as np\n",
    "from sklearn.metrics.pairwise import cosine_similarity\n",
    "import time\n",
    "\n"
   ]
  },
  {
   "cell_type": "code",
   "execution_count": 19,
   "metadata": {},
   "outputs": [
    {
     "name": "stdout",
     "output_type": "stream",
     "text": [
      "计算用户相似度耗时: 2.3340 秒\n"
     ]
    },
    {
     "ename": "KeyError",
     "evalue": "'user_id'",
     "output_type": "error",
     "traceback": [
      "\u001b[1;31m---------------------------------------------------------------------------\u001b[0m",
      "\u001b[1;31mKeyError\u001b[0m                                  Traceback (most recent call last)",
      "File \u001b[1;32mc:\\Users\\scpsyl\\.conda\\envs\\pytorch\\Lib\\site-packages\\pandas\\core\\indexes\\base.py:3805\u001b[0m, in \u001b[0;36mIndex.get_loc\u001b[1;34m(self, key)\u001b[0m\n\u001b[0;32m   3804\u001b[0m \u001b[38;5;28;01mtry\u001b[39;00m:\n\u001b[1;32m-> 3805\u001b[0m     \u001b[38;5;28;01mreturn\u001b[39;00m \u001b[38;5;28;43mself\u001b[39;49m\u001b[38;5;241;43m.\u001b[39;49m\u001b[43m_engine\u001b[49m\u001b[38;5;241;43m.\u001b[39;49m\u001b[43mget_loc\u001b[49m\u001b[43m(\u001b[49m\u001b[43mcasted_key\u001b[49m\u001b[43m)\u001b[49m\n\u001b[0;32m   3806\u001b[0m \u001b[38;5;28;01mexcept\u001b[39;00m \u001b[38;5;167;01mKeyError\u001b[39;00m \u001b[38;5;28;01mas\u001b[39;00m err:\n",
      "File \u001b[1;32mindex.pyx:167\u001b[0m, in \u001b[0;36mpandas._libs.index.IndexEngine.get_loc\u001b[1;34m()\u001b[0m\n",
      "File \u001b[1;32mindex.pyx:175\u001b[0m, in \u001b[0;36mpandas._libs.index.IndexEngine.get_loc\u001b[1;34m()\u001b[0m\n",
      "File \u001b[1;32mpandas\\\\_libs\\\\index_class_helper.pxi:70\u001b[0m, in \u001b[0;36mpandas._libs.index.Int64Engine._check_type\u001b[1;34m()\u001b[0m\n",
      "\u001b[1;31mKeyError\u001b[0m: 'user_id'",
      "\nThe above exception was the direct cause of the following exception:\n",
      "\u001b[1;31mKeyError\u001b[0m                                  Traceback (most recent call last)",
      "Cell \u001b[1;32mIn[19], line 39\u001b[0m\n\u001b[0;32m     37\u001b[0m         count \u001b[38;5;241m+\u001b[39m\u001b[38;5;241m=\u001b[39m \u001b[38;5;241m1\u001b[39m\n\u001b[0;32m     38\u001b[0m     \u001b[38;5;28;01mreturn\u001b[39;00m np\u001b[38;5;241m.\u001b[39msqrt(total_error \u001b[38;5;241m/\u001b[39m count)\n\u001b[1;32m---> 39\u001b[0m rmse \u001b[38;5;241m=\u001b[39m \u001b[43mcalculate_rmse\u001b[49m\u001b[43m(\u001b[49m\u001b[43mX_test\u001b[49m\u001b[43m)\u001b[49m\n\u001b[0;32m     40\u001b[0m \u001b[38;5;28mprint\u001b[39m(\u001b[38;5;124mf\u001b[39m\u001b[38;5;124m\"\u001b[39m\u001b[38;5;124m最终 RMSE 结果: \u001b[39m\u001b[38;5;132;01m{\u001b[39;00mrmse\u001b[38;5;132;01m:\u001b[39;00m\u001b[38;5;124m.4f\u001b[39m\u001b[38;5;132;01m}\u001b[39;00m\u001b[38;5;124m\"\u001b[39m)\n\u001b[0;32m     42\u001b[0m \u001b[38;5;66;03m# 计算整个过程的时间\u001b[39;00m\n",
      "Cell \u001b[1;32mIn[19], line 32\u001b[0m, in \u001b[0;36mcalculate_rmse\u001b[1;34m(test_data)\u001b[0m\n\u001b[0;32m     30\u001b[0m count \u001b[38;5;241m=\u001b[39m \u001b[38;5;241m0\u001b[39m\n\u001b[0;32m     31\u001b[0m \u001b[38;5;28;01mfor\u001b[39;00m _, row \u001b[38;5;129;01min\u001b[39;00m test_data\u001b[38;5;241m.\u001b[39miterrows():\n\u001b[1;32m---> 32\u001b[0m     user_id \u001b[38;5;241m=\u001b[39m \u001b[43mrow\u001b[49m\u001b[43m[\u001b[49m\u001b[38;5;124;43m'\u001b[39;49m\u001b[38;5;124;43muser_id\u001b[39;49m\u001b[38;5;124;43m'\u001b[39;49m\u001b[43m]\u001b[49m\n\u001b[0;32m     33\u001b[0m     movie_id \u001b[38;5;241m=\u001b[39m row[\u001b[38;5;124m'\u001b[39m\u001b[38;5;124mmovie_id\u001b[39m\u001b[38;5;124m'\u001b[39m]\n\u001b[0;32m     34\u001b[0m     actual_rating \u001b[38;5;241m=\u001b[39m row[\u001b[38;5;124m'\u001b[39m\u001b[38;5;124mrating\u001b[39m\u001b[38;5;124m'\u001b[39m]\n",
      "File \u001b[1;32mc:\\Users\\scpsyl\\.conda\\envs\\pytorch\\Lib\\site-packages\\pandas\\core\\series.py:1121\u001b[0m, in \u001b[0;36mSeries.__getitem__\u001b[1;34m(self, key)\u001b[0m\n\u001b[0;32m   1118\u001b[0m     \u001b[38;5;28;01mreturn\u001b[39;00m \u001b[38;5;28mself\u001b[39m\u001b[38;5;241m.\u001b[39m_values[key]\n\u001b[0;32m   1120\u001b[0m \u001b[38;5;28;01melif\u001b[39;00m key_is_scalar:\n\u001b[1;32m-> 1121\u001b[0m     \u001b[38;5;28;01mreturn\u001b[39;00m \u001b[38;5;28;43mself\u001b[39;49m\u001b[38;5;241;43m.\u001b[39;49m\u001b[43m_get_value\u001b[49m\u001b[43m(\u001b[49m\u001b[43mkey\u001b[49m\u001b[43m)\u001b[49m\n\u001b[0;32m   1123\u001b[0m \u001b[38;5;66;03m# Convert generator to list before going through hashable part\u001b[39;00m\n\u001b[0;32m   1124\u001b[0m \u001b[38;5;66;03m# (We will iterate through the generator there to check for slices)\u001b[39;00m\n\u001b[0;32m   1125\u001b[0m \u001b[38;5;28;01mif\u001b[39;00m is_iterator(key):\n",
      "File \u001b[1;32mc:\\Users\\scpsyl\\.conda\\envs\\pytorch\\Lib\\site-packages\\pandas\\core\\series.py:1237\u001b[0m, in \u001b[0;36mSeries._get_value\u001b[1;34m(self, label, takeable)\u001b[0m\n\u001b[0;32m   1234\u001b[0m     \u001b[38;5;28;01mreturn\u001b[39;00m \u001b[38;5;28mself\u001b[39m\u001b[38;5;241m.\u001b[39m_values[label]\n\u001b[0;32m   1236\u001b[0m \u001b[38;5;66;03m# Similar to Index.get_value, but we do not fall back to positional\u001b[39;00m\n\u001b[1;32m-> 1237\u001b[0m loc \u001b[38;5;241m=\u001b[39m \u001b[38;5;28;43mself\u001b[39;49m\u001b[38;5;241;43m.\u001b[39;49m\u001b[43mindex\u001b[49m\u001b[38;5;241;43m.\u001b[39;49m\u001b[43mget_loc\u001b[49m\u001b[43m(\u001b[49m\u001b[43mlabel\u001b[49m\u001b[43m)\u001b[49m\n\u001b[0;32m   1239\u001b[0m \u001b[38;5;28;01mif\u001b[39;00m is_integer(loc):\n\u001b[0;32m   1240\u001b[0m     \u001b[38;5;28;01mreturn\u001b[39;00m \u001b[38;5;28mself\u001b[39m\u001b[38;5;241m.\u001b[39m_values[loc]\n",
      "File \u001b[1;32mc:\\Users\\scpsyl\\.conda\\envs\\pytorch\\Lib\\site-packages\\pandas\\core\\indexes\\base.py:3812\u001b[0m, in \u001b[0;36mIndex.get_loc\u001b[1;34m(self, key)\u001b[0m\n\u001b[0;32m   3807\u001b[0m     \u001b[38;5;28;01mif\u001b[39;00m \u001b[38;5;28misinstance\u001b[39m(casted_key, \u001b[38;5;28mslice\u001b[39m) \u001b[38;5;129;01mor\u001b[39;00m (\n\u001b[0;32m   3808\u001b[0m         \u001b[38;5;28misinstance\u001b[39m(casted_key, abc\u001b[38;5;241m.\u001b[39mIterable)\n\u001b[0;32m   3809\u001b[0m         \u001b[38;5;129;01mand\u001b[39;00m \u001b[38;5;28many\u001b[39m(\u001b[38;5;28misinstance\u001b[39m(x, \u001b[38;5;28mslice\u001b[39m) \u001b[38;5;28;01mfor\u001b[39;00m x \u001b[38;5;129;01min\u001b[39;00m casted_key)\n\u001b[0;32m   3810\u001b[0m     ):\n\u001b[0;32m   3811\u001b[0m         \u001b[38;5;28;01mraise\u001b[39;00m InvalidIndexError(key)\n\u001b[1;32m-> 3812\u001b[0m     \u001b[38;5;28;01mraise\u001b[39;00m \u001b[38;5;167;01mKeyError\u001b[39;00m(key) \u001b[38;5;28;01mfrom\u001b[39;00m \u001b[38;5;21;01merr\u001b[39;00m\n\u001b[0;32m   3813\u001b[0m \u001b[38;5;28;01mexcept\u001b[39;00m \u001b[38;5;167;01mTypeError\u001b[39;00m:\n\u001b[0;32m   3814\u001b[0m     \u001b[38;5;66;03m# If we have a listlike key, _check_indexing_error will raise\u001b[39;00m\n\u001b[0;32m   3815\u001b[0m     \u001b[38;5;66;03m#  InvalidIndexError. Otherwise we fall through and re-raise\u001b[39;00m\n\u001b[0;32m   3816\u001b[0m     \u001b[38;5;66;03m#  the TypeError.\u001b[39;00m\n\u001b[0;32m   3817\u001b[0m     \u001b[38;5;28mself\u001b[39m\u001b[38;5;241m.\u001b[39m_check_indexing_error(key)\n",
      "\u001b[1;31mKeyError\u001b[0m: 'user_id'"
     ]
    }
   ],
   "source": [
    "# 计算用户间的余弦相似度\n",
    "start_time = time.time()\n",
    "user_similarity = cosine_similarity(X_train.fillna(0))  # 将 NaN 填充为 0\n",
    "user_similarity_df = pd.DataFrame(user_similarity, index=X_train.index, columns=X_train.index)\n",
    "end_time = time.time()\n",
    "\n",
    "print(f\"计算用户相似度耗时: {end_time - start_time:.4f} 秒\")\n",
    "# 预测评分函数\n",
    "def predict_rating(user_id, movie_id):\n",
    "    if movie_id not in X_train.columns:\n",
    "        return 0  # 如果电影不在矩阵中，返回 0\n",
    "    similar_users = user_similarity_df[user_id].drop(user_id)  # 获取与用户的相似度\n",
    "    relevant_users = similar_users[similar_users > 0]  # 只考虑相似度大于 0 的用户\n",
    "\n",
    "    # 计算加权评分\n",
    "    weighted_sum = 0\n",
    "    similarity_sum = 0\n",
    "    for k in relevant_users.index:\n",
    "        if X_train.at[k, movie_id] > 0:  # 只有已评分的电影\n",
    "            weighted_sum += relevant_users[k] * X_train.at[k, movie_id]\n",
    "            similarity_sum += relevant_users[k]\n",
    "\n",
    "    if similarity_sum == 0:\n",
    "        return 0  # 如果没有相似用户评分，返回 0\n",
    "    return weighted_sum / similarity_sum\n",
    "\n",
    "# 评估 RMSE\n",
    "def calculate_rmse(test_data):\n",
    "    total_error = 0\n",
    "    count = 0\n",
    "    for _, row in test_data.iterrows():\n",
    "        user_id = row['user_id']\n",
    "        movie_id = row['movie_id']\n",
    "        actual_rating = row['rating']\n",
    "        predicted_rating = predict_rating(user_id, movie_id)\n",
    "        total_error += (actual_rating - predicted_rating) ** 2\n",
    "        count += 1\n",
    "    return np.sqrt(total_error / count)\n",
    "rmse = calculate_rmse(X_test)\n",
    "print(f\"最终 RMSE 结果: {rmse:.4f}\")\n",
    "\n",
    "# 计算整个过程的时间\n",
    "end_time_total = time.time()\n",
    "print(f\"总耗时: {end_time_total - start_time:.4f} 秒\")"
   ]
  },
  {
   "cell_type": "code",
   "execution_count": null,
   "metadata": {},
   "outputs": [],
   "source": []
  },
  {
   "cell_type": "code",
   "execution_count": null,
   "metadata": {},
   "outputs": [],
   "source": []
  }
 ],
 "metadata": {
  "kernelspec": {
   "display_name": "pytorch",
   "language": "python",
   "name": "python3"
  },
  "language_info": {
   "codemirror_mode": {
    "name": "ipython",
    "version": 3
   },
   "file_extension": ".py",
   "mimetype": "text/x-python",
   "name": "python",
   "nbconvert_exporter": "python",
   "pygments_lexer": "ipython3",
   "version": "3.12.5"
  }
 },
 "nbformat": 4,
 "nbformat_minor": 2
}
